{
 "cells": [
  {
   "cell_type": "code",
   "execution_count": 47,
   "id": "4617958f",
   "metadata": {},
   "outputs": [],
   "source": [
    "import numpy as np\n",
    "import math\n",
    "from math import pi\n",
    "import pandas as pd\n",
    "import matplotlib.pyplot as plt"
   ]
  },
  {
   "cell_type": "markdown",
   "id": "f1c22dad",
   "metadata": {},
   "source": [
    "1. Explain the dot product and cross product in your own words in markdown. Use LaTeX to properly show the equations."
   ]
  },
  {
   "cell_type": "markdown",
   "id": "15946655",
   "metadata": {},
   "source": [
    "# Dot Product\n",
    "\n",
    "* The dot product is a fundamental way we can combine two vectors. Intuitively, it tells us something about how much two vectors point in the same direction. We write the dot product with a little dot between the two vectors. Mostly the dot product gives the output as scalar value. This dot product shows us at what degree the two vectors are interacting.\n",
    "\n",
    "\n",
    "* LaTeX Dot Product - $$\\textbf{X} \\cdot \\textbf{Y}$$\n",
    "\n",
    "                                                        OR\n",
    "\n",
    "$$\\textbf{X} \\cdot \\textbf{Y}=\\left | \\textbf{X} \\right |\\left | \\textbf{Y} \\right |\\cos\\theta $$"
   ]
  },
  {
   "cell_type": "markdown",
   "id": "55536a2a",
   "metadata": {},
   "source": [
    "# Cross Product\n",
    "\n",
    "* The cross product is an operation between two vectors. We write the cross product between two vectors as a * b Unlike the dot product, which returns a number, the result of a cross product is another vector. Let's say that a*b = c. This new vector c is perpendicular to other two vector which are a and b.\n",
    " \n",
    "* LaTeX Cross Product - $$\\vec{X}\\times\\vec{Y} =|\\vec{X}||\\vec{Y}|\\sin\\theta\\hat{n} $$"
   ]
  },
  {
   "cell_type": "markdown",
   "id": "5202b9ec",
   "metadata": {},
   "source": [
    "2. Write a function angle_between(v1, V2) where V1 and V2 are two vectors that are passed in, and angle between them is calculated."
   ]
  },
  {
   "cell_type": "code",
   "execution_count": 108,
   "id": "9c795740",
   "metadata": {},
   "outputs": [],
   "source": [
    "def angle_between(V1, V2):\n",
    "    try:\n",
    "        # here i used norm method in linalg module of NumPy library, it give us the magnitude of a vector\n",
    "        # below if condition checking if the magnitude of a vecctor is 0, if it is 0 then it will print the statement \n",
    "        # if not 0 it moves to else statemet \n",
    "        if np.linalg.norm(V1) == 0 or np.linalg.norm(V2) == 0:\n",
    "            print(\"Zero magnitude vector\")\n",
    "        else:\n",
    "            #here i have used numpy methods to find dot and arccos according to formula which is Theta = cos**-1(𝐗⋅𝐘 / |𝐗||𝐘|)\n",
    "            # I used ravel function which helps us to flatten the vector and helps us to understand whats happining \n",
    "            vector_dot_product = np.dot(V1.ravel(), V2.ravel())\n",
    "            theta = np.arccos(vector_dot_product / (np.linalg.norm(V1.ravel()) * np.linalg.norm(V2.ravel())))\n",
    "            angle = np.degrees(theta)\n",
    "            return angle\n",
    "    except Exception as e:\n",
    "        return e\n",
    "    "
   ]
  },
  {
   "cell_type": "code",
   "execution_count": 109,
   "id": "22f17616",
   "metadata": {},
   "outputs": [
    {
     "data": {
      "text/plain": [
       "15.818795859187913"
      ]
     },
     "execution_count": 109,
     "metadata": {},
     "output_type": "execute_result"
    }
   ],
   "source": [
    "#according to question i took 3 dimensions vectors \n",
    "V1 = np.array([[[1,2,3],[4,5,6]]])\n",
    "V2 = np.array([[[7,8,9], [10,11,12]]])\n",
    "\n",
    "#Calling function to find angle \n",
    "angle_between(V1, V2)"
   ]
  },
  {
   "cell_type": "markdown",
   "id": "0927778a",
   "metadata": {},
   "source": [
    "3. Write a function called row_dot(A, r1, r2) which takes an input matrix called A, one row number identified by r1, another row number identified by r2 and return the dot product of the r1 and r2 row(indexing start at 0)."
   ]
  },
  {
   "cell_type": "code",
   "execution_count": 36,
   "id": "67872e3a",
   "metadata": {},
   "outputs": [],
   "source": [
    "def row_dot(A, r1, r2):\n",
    "    y=0\n",
    "    for x in range(3):\n",
    "        try:\n",
    "            y += r1[x]* r2[x]\n",
    "        except Exception as e:\n",
    "            print(e)\n",
    "    else:\n",
    "        print(y)\n",
    "#assigned row 1 elements from A matrix to r1 by using 0 index and 1 index\n",
    "r1 = A[0]\n",
    "r2 = A[1]"
   ]
  },
  {
   "cell_type": "code",
   "execution_count": 37,
   "id": "98dba72f",
   "metadata": {},
   "outputs": [
    {
     "name": "stdout",
     "output_type": "stream",
     "text": [
      "32\n"
     ]
    }
   ],
   "source": [
    "# As per question created matrix as input A.\n",
    "A = np.array([[1, 2, 3],[4, 5, 6],[7, 8, 9]])\n",
    "\n",
    "row_dot(A, r1, r2)\n"
   ]
  },
  {
   "cell_type": "markdown",
   "id": "261bd1d6",
   "metadata": {},
   "source": [
    "4. Write a function matrix_division(m1, m2) that take two matrices, m1 and m2, and returns the result. What is the trick with matrix division."
   ]
  },
  {
   "cell_type": "markdown",
   "id": "1af8ae19",
   "metadata": {},
   "source": [
    "* Dividing a matrix by another matrix is undefined. The closest equivalent is multiplying by the inverse of another matrix. In other words, while M1 ÷ M2 is undefined, We can use m1 * m2-1. we will get the indentity matrix if we multiply the result with the original matrix.In numpy we have np.divide function wwhich helps us to find the output without doing much calculations."
   ]
  },
  {
   "cell_type": "code",
   "execution_count": 110,
   "id": "91417c86",
   "metadata": {},
   "outputs": [],
   "source": [
    "def matrix_division(m1, m2):\n",
    "    try:\n",
    "        # here i took variable called X and used np.divide(m1, m2) function from numpy library.\n",
    "        X = np.divide(m1, m2)\n",
    "        print(X)\n",
    "    except Exception as e:\n",
    "        return e"
   ]
  },
  {
   "cell_type": "code",
   "execution_count": 112,
   "id": "f09f646d",
   "metadata": {},
   "outputs": [
    {
     "name": "stdout",
     "output_type": "stream",
     "text": [
      "[[[-1. -1. -1.]\n",
      "  [-1. -1. -1.]\n",
      "  [-1. -1. -1.]]]\n"
     ]
    }
   ],
   "source": [
    "# Created 3*3 Matrix as per the question\n",
    "# here its dividing 1/-1, 2/-2, 3/-3 for the first row and for second row its dividing 4/-4, 5/-5, 6/-6 and doing same for third row with the third row elements.\n",
    "m1 = np.array([[[1,2,3],[4,5,6],[7,8,9]]])\n",
    "m2 = np.array([[[-1,-2,-3],[-4,-5,-6],[-7,-8,-9]]])\n",
    "\n",
    "matrix_division(m1, m2)"
   ]
  },
  {
   "cell_type": "markdown",
   "id": "329b4427",
   "metadata": {},
   "source": [
    "5. Write a function is_orthogonal(v1,v2,tol), where v1 and v2 are column vectors of the same size and tol is a scalar value strictly larger than 0. the output should be 1 if the angle between v1 and v2 is within tol of pie/2; that is, |pie/2-0|<tol, and 0 otherwise."
   ]
  },
  {
   "cell_type": "code",
   "execution_count": 112,
   "id": "a21101f0",
   "metadata": {},
   "outputs": [],
   "source": [
    "def is_orthogonal(v1,v2,tol):\n",
    "    y=0\n",
    "    for x in range(len(a)):\n",
    "        try:\n",
    "            y += np.dot(v1.ravel(),v2.ravel())\n",
    "            Theta = np.arccos(y / (np.linalg.norm(a) * np.linalg.norm(b)))\n",
    "            T = math.pi/2-Theta\n",
    "            if T < tol:\n",
    "                return '1'\n",
    "            else:\n",
    "                return '0'\n",
    "        except Exception as e:\n",
    "            print(e)"
   ]
  },
  {
   "cell_type": "code",
   "execution_count": 113,
   "id": "991c03e7",
   "metadata": {},
   "outputs": [
    {
     "data": {
      "text/plain": [
       "'1'"
      ]
     },
     "execution_count": 113,
     "metadata": {},
     "output_type": "execute_result"
    }
   ],
   "source": [
    "a = np.array([[1], [0.001]])\n",
    "b = np.array([[0.001],[1]])\n",
    "\n",
    "is_orthogonal(a,b,0.01)\n",
    "# Output is 1"
   ]
  },
  {
   "cell_type": "code",
   "execution_count": 114,
   "id": "d9aaf2ca",
   "metadata": {},
   "outputs": [
    {
     "data": {
      "text/plain": [
       "'0'"
      ]
     },
     "execution_count": 114,
     "metadata": {},
     "output_type": "execute_result"
    }
   ],
   "source": [
    "a = np.array([[1], [0.001]])\n",
    "b = np.array([[0.001],[1]])\n",
    "\n",
    "is_orthogonal(a,b,0.001)\n",
    "# Output is 0"
   ]
  },
  {
   "cell_type": "code",
   "execution_count": 115,
   "id": "4d10a23d",
   "metadata": {},
   "outputs": [
    {
     "data": {
      "text/plain": [
       "'0'"
      ]
     },
     "execution_count": 115,
     "metadata": {},
     "output_type": "execute_result"
    }
   ],
   "source": [
    "a = np.array([[1], [0.001]])\n",
    "b = np.array([[1],[1]])\n",
    "\n",
    "is_orthogonal(a,b,0.01)\n",
    "# Output is 0"
   ]
  },
  {
   "cell_type": "code",
   "execution_count": 116,
   "id": "8246181f",
   "metadata": {},
   "outputs": [
    {
     "data": {
      "text/plain": [
       "'1'"
      ]
     },
     "execution_count": 116,
     "metadata": {},
     "output_type": "execute_result"
    }
   ],
   "source": [
    "a = np.array([[1], [1]])\n",
    "b = np.array([[-1],[1]])\n",
    "\n",
    "is_orthogonal(a,b,1e-10)\n",
    "# Output is 1"
   ]
  },
  {
   "cell_type": "markdown",
   "id": "f4cd3514",
   "metadata": {},
   "source": [
    "6, Create a class called vector_calcultor. __init__ should take self,vector1, and vector2. it should have two methods inside of it that are from problem 2 and 5 above(angle_between and is_orthogoonal). make sure tol is default but can be overwritten. make sure you can call angle_between and is_orthogonal through the class and return the correct results as in problem 2 and 5 "
   ]
  },
  {
   "cell_type": "code",
   "execution_count": 165,
   "id": "03b6e70c",
   "metadata": {},
   "outputs": [],
   "source": [
    "class vector_calculator():\n",
    "    \n",
    "    def __init__(self,vector1,vector2):\n",
    "        self.v1 = np.ravel(vector1)\n",
    "        self.v2 = np.ravel(vector2)\n",
    "        \n",
    "    def angle_between(self):\n",
    "        v1 = self.v1\n",
    "        v2 = self.v2\n",
    "        try:\n",
    "            if np.linalg.norm(v1) == 0 or np.linalg.norm(v2) == 0:\n",
    "                print(\"Zero magnitude vector\")\n",
    "                \n",
    "            else:\n",
    "                vector_dot_product = np.dot(v1,v2)\n",
    "                theta = np.arccos(vector_dot_product / (np.linalg.norm(v1) * np.linalg.norm(v2)))\n",
    "                angle = np.degrees(theta)\n",
    "                return angle\n",
    "        except Exception as e:\n",
    "            return e\n",
    "    \n",
    "    \n",
    "    def is_orthogonal(self,tol=0):\n",
    "        v1= self.v1\n",
    "        v2= self.v2\n",
    "        y=0\n",
    "        for x in range(len(v1)):\n",
    "            try:\n",
    "                y += np.dot(v1.ravel(),v2.ravel())\n",
    "                Theta = np.arccos(y / (np.linalg.norm(a) * np.linalg.norm(b)))\n",
    "                T = math.pi/2-Theta\n",
    "                \n",
    "                if T<tol:\n",
    "                    return '1'\n",
    "                else:\n",
    "                    return '0'\n",
    "            except Exception as e:\n",
    "                print(e)\n",
    "                                "
   ]
  },
  {
   "cell_type": "code",
   "execution_count": 166,
   "id": "67645bba",
   "metadata": {},
   "outputs": [],
   "source": [
    "v1 = np.array([[1], [0.001]])\n",
    "v2 = np.array([[0.001],[1]])"
   ]
  },
  {
   "cell_type": "code",
   "execution_count": 143,
   "id": "fb7c6ec1",
   "metadata": {},
   "outputs": [
    {
     "data": {
      "text/plain": [
       "89.885408479171"
      ]
     },
     "execution_count": 143,
     "metadata": {},
     "output_type": "execute_result"
    }
   ],
   "source": [
    "angle_between(v1,v2)\n",
    "is_orthogonal(v1,v2,0.01)"
   ]
  },
  {
   "cell_type": "markdown",
   "id": "d8a33199",
   "metadata": {},
   "source": [
    "7, Show a graphical representation of the breast cancer data outlined in the reading. be sure to describe what PCA is and incorporate the principal components in your plot. This is just exploratory, so there are many correct answers!\n",
    "\n",
    "* PCA mean principal component analysis, it helps us to reduce the dimentionality which will help us to deal with the large data and big dimensions data."
   ]
  },
  {
   "cell_type": "code",
   "execution_count": 50,
   "id": "184d3fb2",
   "metadata": {},
   "outputs": [],
   "source": [
    "from sklearn.datasets import load_breast_cancer\n",
    "from sklearn.preprocessing import StandardScaler"
   ]
  },
  {
   "cell_type": "code",
   "execution_count": 51,
   "id": "713e635d",
   "metadata": {},
   "outputs": [],
   "source": [
    "breast = load_breast_cancer()"
   ]
  },
  {
   "cell_type": "code",
   "execution_count": 52,
   "id": "96756c12",
   "metadata": {},
   "outputs": [],
   "source": [
    "breast_data = breast.data\n",
    "breast_labels = breast.target"
   ]
  },
  {
   "cell_type": "code",
   "execution_count": 53,
   "id": "bcaca8b8",
   "metadata": {},
   "outputs": [],
   "source": [
    "labels = np.reshape(breast_labels,(569,1))"
   ]
  },
  {
   "cell_type": "code",
   "execution_count": 54,
   "id": "17823810",
   "metadata": {},
   "outputs": [],
   "source": [
    "final_breast_data = np.concatenate([breast_data,labels],axis=1)"
   ]
  },
  {
   "cell_type": "code",
   "execution_count": 56,
   "id": "71b3c087",
   "metadata": {},
   "outputs": [],
   "source": [
    "breast_dataset = pd.DataFrame(final_breast_data)"
   ]
  },
  {
   "cell_type": "code",
   "execution_count": 57,
   "id": "6c9d8fe3",
   "metadata": {},
   "outputs": [
    {
     "data": {
      "text/plain": [
       "array(['mean radius', 'mean texture', 'mean perimeter', 'mean area',\n",
       "       'mean smoothness', 'mean compactness', 'mean concavity',\n",
       "       'mean concave points', 'mean symmetry', 'mean fractal dimension',\n",
       "       'radius error', 'texture error', 'perimeter error', 'area error',\n",
       "       'smoothness error', 'compactness error', 'concavity error',\n",
       "       'concave points error', 'symmetry error',\n",
       "       'fractal dimension error', 'worst radius', 'worst texture',\n",
       "       'worst perimeter', 'worst area', 'worst smoothness',\n",
       "       'worst compactness', 'worst concavity', 'worst concave points',\n",
       "       'worst symmetry', 'worst fractal dimension'], dtype='<U23')"
      ]
     },
     "execution_count": 57,
     "metadata": {},
     "output_type": "execute_result"
    }
   ],
   "source": [
    "features = breast.feature_names\n",
    "features"
   ]
  },
  {
   "cell_type": "code",
   "execution_count": 58,
   "id": "16fbc745",
   "metadata": {},
   "outputs": [],
   "source": [
    "features_labels = np.append(features,'label')"
   ]
  },
  {
   "cell_type": "code",
   "execution_count": 59,
   "id": "bd644d36",
   "metadata": {},
   "outputs": [],
   "source": [
    "breast_dataset.columns = features_labels"
   ]
  },
  {
   "cell_type": "code",
   "execution_count": 63,
   "id": "6dc28218",
   "metadata": {},
   "outputs": [
    {
     "data": {
      "text/html": [
       "<div>\n",
       "<style scoped>\n",
       "    .dataframe tbody tr th:only-of-type {\n",
       "        vertical-align: middle;\n",
       "    }\n",
       "\n",
       "    .dataframe tbody tr th {\n",
       "        vertical-align: top;\n",
       "    }\n",
       "\n",
       "    .dataframe thead th {\n",
       "        text-align: right;\n",
       "    }\n",
       "</style>\n",
       "<table border=\"1\" class=\"dataframe\">\n",
       "  <thead>\n",
       "    <tr style=\"text-align: right;\">\n",
       "      <th></th>\n",
       "      <th>mean radius</th>\n",
       "      <th>mean texture</th>\n",
       "      <th>mean perimeter</th>\n",
       "      <th>mean area</th>\n",
       "      <th>mean smoothness</th>\n",
       "      <th>mean compactness</th>\n",
       "      <th>mean concavity</th>\n",
       "      <th>mean concave points</th>\n",
       "      <th>mean symmetry</th>\n",
       "      <th>mean fractal dimension</th>\n",
       "      <th>...</th>\n",
       "      <th>worst texture</th>\n",
       "      <th>worst perimeter</th>\n",
       "      <th>worst area</th>\n",
       "      <th>worst smoothness</th>\n",
       "      <th>worst compactness</th>\n",
       "      <th>worst concavity</th>\n",
       "      <th>worst concave points</th>\n",
       "      <th>worst symmetry</th>\n",
       "      <th>worst fractal dimension</th>\n",
       "      <th>label</th>\n",
       "    </tr>\n",
       "  </thead>\n",
       "  <tbody>\n",
       "    <tr>\n",
       "      <th>0</th>\n",
       "      <td>17.99</td>\n",
       "      <td>10.38</td>\n",
       "      <td>122.80</td>\n",
       "      <td>1001.0</td>\n",
       "      <td>0.11840</td>\n",
       "      <td>0.27760</td>\n",
       "      <td>0.3001</td>\n",
       "      <td>0.14710</td>\n",
       "      <td>0.2419</td>\n",
       "      <td>0.07871</td>\n",
       "      <td>...</td>\n",
       "      <td>17.33</td>\n",
       "      <td>184.60</td>\n",
       "      <td>2019.0</td>\n",
       "      <td>0.1622</td>\n",
       "      <td>0.6656</td>\n",
       "      <td>0.7119</td>\n",
       "      <td>0.2654</td>\n",
       "      <td>0.4601</td>\n",
       "      <td>0.11890</td>\n",
       "      <td>0.0</td>\n",
       "    </tr>\n",
       "    <tr>\n",
       "      <th>1</th>\n",
       "      <td>20.57</td>\n",
       "      <td>17.77</td>\n",
       "      <td>132.90</td>\n",
       "      <td>1326.0</td>\n",
       "      <td>0.08474</td>\n",
       "      <td>0.07864</td>\n",
       "      <td>0.0869</td>\n",
       "      <td>0.07017</td>\n",
       "      <td>0.1812</td>\n",
       "      <td>0.05667</td>\n",
       "      <td>...</td>\n",
       "      <td>23.41</td>\n",
       "      <td>158.80</td>\n",
       "      <td>1956.0</td>\n",
       "      <td>0.1238</td>\n",
       "      <td>0.1866</td>\n",
       "      <td>0.2416</td>\n",
       "      <td>0.1860</td>\n",
       "      <td>0.2750</td>\n",
       "      <td>0.08902</td>\n",
       "      <td>0.0</td>\n",
       "    </tr>\n",
       "    <tr>\n",
       "      <th>2</th>\n",
       "      <td>19.69</td>\n",
       "      <td>21.25</td>\n",
       "      <td>130.00</td>\n",
       "      <td>1203.0</td>\n",
       "      <td>0.10960</td>\n",
       "      <td>0.15990</td>\n",
       "      <td>0.1974</td>\n",
       "      <td>0.12790</td>\n",
       "      <td>0.2069</td>\n",
       "      <td>0.05999</td>\n",
       "      <td>...</td>\n",
       "      <td>25.53</td>\n",
       "      <td>152.50</td>\n",
       "      <td>1709.0</td>\n",
       "      <td>0.1444</td>\n",
       "      <td>0.4245</td>\n",
       "      <td>0.4504</td>\n",
       "      <td>0.2430</td>\n",
       "      <td>0.3613</td>\n",
       "      <td>0.08758</td>\n",
       "      <td>0.0</td>\n",
       "    </tr>\n",
       "    <tr>\n",
       "      <th>3</th>\n",
       "      <td>11.42</td>\n",
       "      <td>20.38</td>\n",
       "      <td>77.58</td>\n",
       "      <td>386.1</td>\n",
       "      <td>0.14250</td>\n",
       "      <td>0.28390</td>\n",
       "      <td>0.2414</td>\n",
       "      <td>0.10520</td>\n",
       "      <td>0.2597</td>\n",
       "      <td>0.09744</td>\n",
       "      <td>...</td>\n",
       "      <td>26.50</td>\n",
       "      <td>98.87</td>\n",
       "      <td>567.7</td>\n",
       "      <td>0.2098</td>\n",
       "      <td>0.8663</td>\n",
       "      <td>0.6869</td>\n",
       "      <td>0.2575</td>\n",
       "      <td>0.6638</td>\n",
       "      <td>0.17300</td>\n",
       "      <td>0.0</td>\n",
       "    </tr>\n",
       "    <tr>\n",
       "      <th>4</th>\n",
       "      <td>20.29</td>\n",
       "      <td>14.34</td>\n",
       "      <td>135.10</td>\n",
       "      <td>1297.0</td>\n",
       "      <td>0.10030</td>\n",
       "      <td>0.13280</td>\n",
       "      <td>0.1980</td>\n",
       "      <td>0.10430</td>\n",
       "      <td>0.1809</td>\n",
       "      <td>0.05883</td>\n",
       "      <td>...</td>\n",
       "      <td>16.67</td>\n",
       "      <td>152.20</td>\n",
       "      <td>1575.0</td>\n",
       "      <td>0.1374</td>\n",
       "      <td>0.2050</td>\n",
       "      <td>0.4000</td>\n",
       "      <td>0.1625</td>\n",
       "      <td>0.2364</td>\n",
       "      <td>0.07678</td>\n",
       "      <td>0.0</td>\n",
       "    </tr>\n",
       "  </tbody>\n",
       "</table>\n",
       "<p>5 rows × 31 columns</p>\n",
       "</div>"
      ],
      "text/plain": [
       "   mean radius  mean texture  mean perimeter  mean area  mean smoothness  \\\n",
       "0        17.99         10.38          122.80     1001.0          0.11840   \n",
       "1        20.57         17.77          132.90     1326.0          0.08474   \n",
       "2        19.69         21.25          130.00     1203.0          0.10960   \n",
       "3        11.42         20.38           77.58      386.1          0.14250   \n",
       "4        20.29         14.34          135.10     1297.0          0.10030   \n",
       "\n",
       "   mean compactness  mean concavity  mean concave points  mean symmetry  \\\n",
       "0           0.27760          0.3001              0.14710         0.2419   \n",
       "1           0.07864          0.0869              0.07017         0.1812   \n",
       "2           0.15990          0.1974              0.12790         0.2069   \n",
       "3           0.28390          0.2414              0.10520         0.2597   \n",
       "4           0.13280          0.1980              0.10430         0.1809   \n",
       "\n",
       "   mean fractal dimension  ...  worst texture  worst perimeter  worst area  \\\n",
       "0                 0.07871  ...          17.33           184.60      2019.0   \n",
       "1                 0.05667  ...          23.41           158.80      1956.0   \n",
       "2                 0.05999  ...          25.53           152.50      1709.0   \n",
       "3                 0.09744  ...          26.50            98.87       567.7   \n",
       "4                 0.05883  ...          16.67           152.20      1575.0   \n",
       "\n",
       "   worst smoothness  worst compactness  worst concavity  worst concave points  \\\n",
       "0            0.1622             0.6656           0.7119                0.2654   \n",
       "1            0.1238             0.1866           0.2416                0.1860   \n",
       "2            0.1444             0.4245           0.4504                0.2430   \n",
       "3            0.2098             0.8663           0.6869                0.2575   \n",
       "4            0.1374             0.2050           0.4000                0.1625   \n",
       "\n",
       "   worst symmetry  worst fractal dimension  label  \n",
       "0          0.4601                  0.11890    0.0  \n",
       "1          0.2750                  0.08902    0.0  \n",
       "2          0.3613                  0.08758    0.0  \n",
       "3          0.6638                  0.17300    0.0  \n",
       "4          0.2364                  0.07678    0.0  \n",
       "\n",
       "[5 rows x 31 columns]"
      ]
     },
     "execution_count": 63,
     "metadata": {},
     "output_type": "execute_result"
    }
   ],
   "source": [
    "breast_dataset.head()"
   ]
  },
  {
   "cell_type": "code",
   "execution_count": 89,
   "id": "963772ff",
   "metadata": {},
   "outputs": [
    {
     "data": {
      "text/plain": [
       "(-6.118909323768877e-16, 1.0)"
      ]
     },
     "execution_count": 89,
     "metadata": {},
     "output_type": "execute_result"
    }
   ],
   "source": [
    "from sklearn.preprocessing import StandardScaler\n",
    "x = breast_dataset.loc[:, features].values\n",
    "x = StandardScaler().fit_transform(x) \n",
    "np.mean(x),np.std(x)"
   ]
  },
  {
   "cell_type": "code",
   "execution_count": 91,
   "id": "36e84dd4",
   "metadata": {},
   "outputs": [
    {
     "data": {
      "text/html": [
       "<div>\n",
       "<style scoped>\n",
       "    .dataframe tbody tr th:only-of-type {\n",
       "        vertical-align: middle;\n",
       "    }\n",
       "\n",
       "    .dataframe tbody tr th {\n",
       "        vertical-align: top;\n",
       "    }\n",
       "\n",
       "    .dataframe thead th {\n",
       "        text-align: right;\n",
       "    }\n",
       "</style>\n",
       "<table border=\"1\" class=\"dataframe\">\n",
       "  <thead>\n",
       "    <tr style=\"text-align: right;\">\n",
       "      <th></th>\n",
       "      <th>feature0</th>\n",
       "      <th>feature1</th>\n",
       "      <th>feature2</th>\n",
       "      <th>feature3</th>\n",
       "      <th>feature4</th>\n",
       "      <th>feature5</th>\n",
       "      <th>feature6</th>\n",
       "      <th>feature7</th>\n",
       "      <th>feature8</th>\n",
       "      <th>feature9</th>\n",
       "      <th>...</th>\n",
       "      <th>feature20</th>\n",
       "      <th>feature21</th>\n",
       "      <th>feature22</th>\n",
       "      <th>feature23</th>\n",
       "      <th>feature24</th>\n",
       "      <th>feature25</th>\n",
       "      <th>feature26</th>\n",
       "      <th>feature27</th>\n",
       "      <th>feature28</th>\n",
       "      <th>feature29</th>\n",
       "    </tr>\n",
       "  </thead>\n",
       "  <tbody>\n",
       "    <tr>\n",
       "      <th>0</th>\n",
       "      <td>1.097064</td>\n",
       "      <td>-2.073335</td>\n",
       "      <td>1.269934</td>\n",
       "      <td>0.984375</td>\n",
       "      <td>1.568466</td>\n",
       "      <td>3.283515</td>\n",
       "      <td>2.652874</td>\n",
       "      <td>2.532475</td>\n",
       "      <td>2.217515</td>\n",
       "      <td>2.255747</td>\n",
       "      <td>...</td>\n",
       "      <td>1.886690</td>\n",
       "      <td>-1.359293</td>\n",
       "      <td>2.303601</td>\n",
       "      <td>2.001237</td>\n",
       "      <td>1.307686</td>\n",
       "      <td>2.616665</td>\n",
       "      <td>2.109526</td>\n",
       "      <td>2.296076</td>\n",
       "      <td>2.750622</td>\n",
       "      <td>1.937015</td>\n",
       "    </tr>\n",
       "    <tr>\n",
       "      <th>1</th>\n",
       "      <td>1.829821</td>\n",
       "      <td>-0.353632</td>\n",
       "      <td>1.685955</td>\n",
       "      <td>1.908708</td>\n",
       "      <td>-0.826962</td>\n",
       "      <td>-0.487072</td>\n",
       "      <td>-0.023846</td>\n",
       "      <td>0.548144</td>\n",
       "      <td>0.001392</td>\n",
       "      <td>-0.868652</td>\n",
       "      <td>...</td>\n",
       "      <td>1.805927</td>\n",
       "      <td>-0.369203</td>\n",
       "      <td>1.535126</td>\n",
       "      <td>1.890489</td>\n",
       "      <td>-0.375612</td>\n",
       "      <td>-0.430444</td>\n",
       "      <td>-0.146749</td>\n",
       "      <td>1.087084</td>\n",
       "      <td>-0.243890</td>\n",
       "      <td>0.281190</td>\n",
       "    </tr>\n",
       "    <tr>\n",
       "      <th>2</th>\n",
       "      <td>1.579888</td>\n",
       "      <td>0.456187</td>\n",
       "      <td>1.566503</td>\n",
       "      <td>1.558884</td>\n",
       "      <td>0.942210</td>\n",
       "      <td>1.052926</td>\n",
       "      <td>1.363478</td>\n",
       "      <td>2.037231</td>\n",
       "      <td>0.939685</td>\n",
       "      <td>-0.398008</td>\n",
       "      <td>...</td>\n",
       "      <td>1.511870</td>\n",
       "      <td>-0.023974</td>\n",
       "      <td>1.347475</td>\n",
       "      <td>1.456285</td>\n",
       "      <td>0.527407</td>\n",
       "      <td>1.082932</td>\n",
       "      <td>0.854974</td>\n",
       "      <td>1.955000</td>\n",
       "      <td>1.152255</td>\n",
       "      <td>0.201391</td>\n",
       "    </tr>\n",
       "    <tr>\n",
       "      <th>3</th>\n",
       "      <td>-0.768909</td>\n",
       "      <td>0.253732</td>\n",
       "      <td>-0.592687</td>\n",
       "      <td>-0.764464</td>\n",
       "      <td>3.283553</td>\n",
       "      <td>3.402909</td>\n",
       "      <td>1.915897</td>\n",
       "      <td>1.451707</td>\n",
       "      <td>2.867383</td>\n",
       "      <td>4.910919</td>\n",
       "      <td>...</td>\n",
       "      <td>-0.281464</td>\n",
       "      <td>0.133984</td>\n",
       "      <td>-0.249939</td>\n",
       "      <td>-0.550021</td>\n",
       "      <td>3.394275</td>\n",
       "      <td>3.893397</td>\n",
       "      <td>1.989588</td>\n",
       "      <td>2.175786</td>\n",
       "      <td>6.046041</td>\n",
       "      <td>4.935010</td>\n",
       "    </tr>\n",
       "    <tr>\n",
       "      <th>4</th>\n",
       "      <td>1.750297</td>\n",
       "      <td>-1.151816</td>\n",
       "      <td>1.776573</td>\n",
       "      <td>1.826229</td>\n",
       "      <td>0.280372</td>\n",
       "      <td>0.539340</td>\n",
       "      <td>1.371011</td>\n",
       "      <td>1.428493</td>\n",
       "      <td>-0.009560</td>\n",
       "      <td>-0.562450</td>\n",
       "      <td>...</td>\n",
       "      <td>1.298575</td>\n",
       "      <td>-1.466770</td>\n",
       "      <td>1.338539</td>\n",
       "      <td>1.220724</td>\n",
       "      <td>0.220556</td>\n",
       "      <td>-0.313395</td>\n",
       "      <td>0.613179</td>\n",
       "      <td>0.729259</td>\n",
       "      <td>-0.868353</td>\n",
       "      <td>-0.397100</td>\n",
       "    </tr>\n",
       "  </tbody>\n",
       "</table>\n",
       "<p>5 rows × 30 columns</p>\n",
       "</div>"
      ],
      "text/plain": [
       "   feature0  feature1  feature2  feature3  feature4  feature5  feature6  \\\n",
       "0  1.097064 -2.073335  1.269934  0.984375  1.568466  3.283515  2.652874   \n",
       "1  1.829821 -0.353632  1.685955  1.908708 -0.826962 -0.487072 -0.023846   \n",
       "2  1.579888  0.456187  1.566503  1.558884  0.942210  1.052926  1.363478   \n",
       "3 -0.768909  0.253732 -0.592687 -0.764464  3.283553  3.402909  1.915897   \n",
       "4  1.750297 -1.151816  1.776573  1.826229  0.280372  0.539340  1.371011   \n",
       "\n",
       "   feature7  feature8  feature9  ...  feature20  feature21  feature22  \\\n",
       "0  2.532475  2.217515  2.255747  ...   1.886690  -1.359293   2.303601   \n",
       "1  0.548144  0.001392 -0.868652  ...   1.805927  -0.369203   1.535126   \n",
       "2  2.037231  0.939685 -0.398008  ...   1.511870  -0.023974   1.347475   \n",
       "3  1.451707  2.867383  4.910919  ...  -0.281464   0.133984  -0.249939   \n",
       "4  1.428493 -0.009560 -0.562450  ...   1.298575  -1.466770   1.338539   \n",
       "\n",
       "   feature23  feature24  feature25  feature26  feature27  feature28  feature29  \n",
       "0   2.001237   1.307686   2.616665   2.109526   2.296076   2.750622   1.937015  \n",
       "1   1.890489  -0.375612  -0.430444  -0.146749   1.087084  -0.243890   0.281190  \n",
       "2   1.456285   0.527407   1.082932   0.854974   1.955000   1.152255   0.201391  \n",
       "3  -0.550021   3.394275   3.893397   1.989588   2.175786   6.046041   4.935010  \n",
       "4   1.220724   0.220556  -0.313395   0.613179   0.729259  -0.868353  -0.397100  \n",
       "\n",
       "[5 rows x 30 columns]"
      ]
     },
     "execution_count": 91,
     "metadata": {},
     "output_type": "execute_result"
    }
   ],
   "source": [
    "feat_cols = ['feature'+str(i) for i in range(x.shape[1])]\n",
    "normalised_breast = pd.DataFrame(x,columns=feat_cols)\n",
    "normalised_breast.head()"
   ]
  },
  {
   "cell_type": "code",
   "execution_count": 98,
   "id": "0638ff78",
   "metadata": {},
   "outputs": [],
   "source": [
    "from sklearn.decomposition import PCA\n",
    "pca_breast = PCA(n_components=3)\n",
    "principalComponents_breast = pca_breast.fit_transform(x)"
   ]
  },
  {
   "cell_type": "code",
   "execution_count": 100,
   "id": "ed71661e",
   "metadata": {},
   "outputs": [
    {
     "data": {
      "text/html": [
       "<div>\n",
       "<style scoped>\n",
       "    .dataframe tbody tr th:only-of-type {\n",
       "        vertical-align: middle;\n",
       "    }\n",
       "\n",
       "    .dataframe tbody tr th {\n",
       "        vertical-align: top;\n",
       "    }\n",
       "\n",
       "    .dataframe thead th {\n",
       "        text-align: right;\n",
       "    }\n",
       "</style>\n",
       "<table border=\"1\" class=\"dataframe\">\n",
       "  <thead>\n",
       "    <tr style=\"text-align: right;\">\n",
       "      <th></th>\n",
       "      <th>principal component 1</th>\n",
       "      <th>principal component 2</th>\n",
       "      <th>principal component 3</th>\n",
       "    </tr>\n",
       "  </thead>\n",
       "  <tbody>\n",
       "    <tr>\n",
       "      <th>564</th>\n",
       "      <td>6.439315</td>\n",
       "      <td>-3.576817</td>\n",
       "      <td>2.459486</td>\n",
       "    </tr>\n",
       "    <tr>\n",
       "      <th>565</th>\n",
       "      <td>3.793382</td>\n",
       "      <td>-3.584048</td>\n",
       "      <td>2.088477</td>\n",
       "    </tr>\n",
       "    <tr>\n",
       "      <th>566</th>\n",
       "      <td>1.256179</td>\n",
       "      <td>-1.902297</td>\n",
       "      <td>0.562731</td>\n",
       "    </tr>\n",
       "    <tr>\n",
       "      <th>567</th>\n",
       "      <td>10.374794</td>\n",
       "      <td>1.672010</td>\n",
       "      <td>-1.877029</td>\n",
       "    </tr>\n",
       "    <tr>\n",
       "      <th>568</th>\n",
       "      <td>-5.475243</td>\n",
       "      <td>-0.670636</td>\n",
       "      <td>1.490442</td>\n",
       "    </tr>\n",
       "  </tbody>\n",
       "</table>\n",
       "</div>"
      ],
      "text/plain": [
       "     principal component 1  principal component 2  principal component 3\n",
       "564               6.439315              -3.576817               2.459486\n",
       "565               3.793382              -3.584048               2.088477\n",
       "566               1.256179              -1.902297               0.562731\n",
       "567              10.374794               1.672010              -1.877029\n",
       "568              -5.475243              -0.670636               1.490442"
      ]
     },
     "execution_count": 100,
     "metadata": {},
     "output_type": "execute_result"
    }
   ],
   "source": [
    "principal_breast_Df = pd.DataFrame(data = principalComponents_breast\n",
    "             , columns = ['principal component 1', 'principal component 2', 'principal component 3'])\n",
    "principal_breast_Df.tail()"
   ]
  },
  {
   "cell_type": "code",
   "execution_count": 173,
   "id": "5217c896",
   "metadata": {},
   "outputs": [
    {
     "data": {
      "image/png": "[encoded data removed]",
      "text/plain": [
       "<Figure size 432x288 with 1 Axes>"
      ]
     },
     "metadata": {
      "needs_background": "light"
     },
     "output_type": "display_data"
    }
   ],
   "source": [
    "fig, ax = plt.subplots()\n",
    "\n",
    "ax.bar(principal_breast_Df[\"principal component 1\"], principal_breast_Df[\"principal component 2\"])\n",
    "\n",
    "plt.xlabel('Principal Component - 1',fontsize=10)\n",
    "plt.ylabel('Principal Component - 2',fontsize=10)\n",
    "plt.title(\"Principal Component Analysis of Breast\")\n",
    "\n",
    "plt.show()"
   ]
  },
  {
   "cell_type": "code",
   "execution_count": null,
   "id": "856d72bb",
   "metadata": {},
   "outputs": [],
   "source": []
  }
 ],
 "metadata": {
  "kernelspec": {
   "display_name": "Python 3",
   "language": "python",
   "name": "python3"
  },
  "language_info": {
   "codemirror_mode": {
    "name": "ipython",
    "version": 3
   },
   "file_extension": ".py",
   "mimetype": "text/x-python",
   "name": "python",
   "nbconvert_exporter": "python",
   "pygments_lexer": "ipython3",
   "version": "3.8.8"
  }
 },
 "nbformat": 4,
 "nbformat_minor": 5
}
